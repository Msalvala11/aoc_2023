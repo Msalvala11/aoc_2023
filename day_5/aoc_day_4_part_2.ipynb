{
 "cells": [
  {
   "cell_type": "code",
   "execution_count": 87,
   "metadata": {},
   "outputs": [],
   "source": [
    "import pandas as pd\n",
    "import re \n",
    "import math\n",
    "\n",
    "day_4 = open('input.txt', 'r')\n",
    "lines = day_4.readlines()\n",
    "lines_og = lines.copy()"
   ]
  },
  {
   "cell_type": "code",
   "execution_count": 88,
   "metadata": {},
   "outputs": [],
   "source": [
    "import re\n",
    "\n",
    "x = re.compile('[0-9][0-9]|\\s[0-9]\\s|\\s[0-9]$')\n",
    "y = re.compile('[0-9]$|[0-9][0-9]$|[0-9][0-9][0-9]$')\n",
    "\n"
   ]
  },
  {
   "cell_type": "code",
   "execution_count": 89,
   "metadata": {},
   "outputs": [],
   "source": [
    "points = 0\n",
    "for n, l in enumerate(lines):\n",
    "\n",
    "    line = l.strip().split(':')[1]\n",
    "    num = int(y.search(l.strip().split(':')[0]).group())\n",
    "\n",
    "    winners = [i.replace(' ','') for i in x.findall(line.split('|')[0])]\n",
    "    if len(winners) != 10:\n",
    "        print(winners, len(winners))\n",
    "    card = [i.replace(' ','') for i in x.findall(line.split('|')[1])]\n",
    "    if len(card) != 25:\n",
    "        print(card, len(card))\n",
    "    matches = 0\n",
    "    while card:\n",
    "        if card[0] in winners:\n",
    "            matches += 1\n",
    "        card = card[1:]\n",
    "\n",
    "    # print(\"line/match_num:\", num, line, \"matches:\",matches)\n",
    "    for m, new_line in enumerate(lines_og[num:num+matches]):\n",
    "        lines.append(new_line)\n",
    "\n",
    "    points += 1 \n"
   ]
  },
  {
   "cell_type": "code",
   "execution_count": 90,
   "metadata": {},
   "outputs": [
    {
     "data": {
      "text/plain": [
       "7013204"
      ]
     },
     "execution_count": 90,
     "metadata": {},
     "output_type": "execute_result"
    }
   ],
   "source": [
    "points\n"
   ]
  },
  {
   "cell_type": "code",
   "execution_count": null,
   "metadata": {},
   "outputs": [],
   "source": []
  }
 ],
 "metadata": {
  "kernelspec": {
   "display_name": "Python 3",
   "language": "python",
   "name": "python3"
  },
  "language_info": {
   "codemirror_mode": {
    "name": "ipython",
    "version": 3
   },
   "file_extension": ".py",
   "mimetype": "text/x-python",
   "name": "python",
   "nbconvert_exporter": "python",
   "pygments_lexer": "ipython3",
   "version": "3.10.2"
  }
 },
 "nbformat": 4,
 "nbformat_minor": 2
}
