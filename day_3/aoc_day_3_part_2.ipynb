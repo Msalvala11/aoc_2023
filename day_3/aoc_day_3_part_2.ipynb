{
 "cells": [
  {
   "cell_type": "code",
   "execution_count": 1,
   "metadata": {},
   "outputs": [],
   "source": [
    "import pandas as pd\n",
    "import re \n",
    "\n",
    "day_3 = open('input.txt', 'r')\n",
    "lines = day_3.readlines()\n"
   ]
  },
  {
   "cell_type": "markdown",
   "metadata": {},
   "source": [
    "only 12 red cubes, 13 green cubes, and 14 blue cubes"
   ]
  },
  {
   "cell_type": "code",
   "execution_count": 3,
   "metadata": {},
   "outputs": [],
   "source": [
    "z = re.compile('[*]')\n",
    "\n",
    "symbol_list = []\n",
    "for n, line in enumerate(lines):\n",
    "    for i in z.finditer(line.strip()):\n",
    "        symbol_list.append(i.start()+n*140)"
   ]
  },
  {
   "cell_type": "code",
   "execution_count": 8,
   "metadata": {},
   "outputs": [],
   "source": [
    "import re\n",
    "\n",
    "y = re.compile('[0-9]+')\n",
    "number_sum = {i:[] for i in symbol_list}\n",
    "\n",
    "for n, line in enumerate(lines):\n",
    "    for i in y.finditer(line):\n",
    "        line_check = [-140, 0, 140]\n",
    "        while line_check:\n",
    "            line_range = [i for i in range(i.start()+n*140 + line_check[0]-1, i.end()+n*140 + line_check[0]+1,1)]\n",
    "            for j in line_range:\n",
    "                if j in symbol_list:\n",
    "                    number_sum[j].append(int(i.group()))\n",
    "                    line_check = []\n",
    "\n",
    "            line_check = line_check[1:]\n"
   ]
  },
  {
   "cell_type": "code",
   "execution_count": 10,
   "metadata": {},
   "outputs": [],
   "source": [
    "gear_sum = 0 \n",
    "\n",
    "for k,v in number_sum.items():\n",
    "    if len(v)==2:\n",
    "        gear_sum += v[0]*v[1]\n"
   ]
  },
  {
   "cell_type": "code",
   "execution_count": 11,
   "metadata": {},
   "outputs": [
    {
     "data": {
      "text/plain": [
       "85010461"
      ]
     },
     "execution_count": 11,
     "metadata": {},
     "output_type": "execute_result"
    }
   ],
   "source": [
    "gear_sum"
   ]
  },
  {
   "cell_type": "code",
   "execution_count": null,
   "metadata": {},
   "outputs": [],
   "source": []
  }
 ],
 "metadata": {
  "kernelspec": {
   "display_name": "Python 3",
   "language": "python",
   "name": "python3"
  },
  "language_info": {
   "codemirror_mode": {
    "name": "ipython",
    "version": 3
   },
   "file_extension": ".py",
   "mimetype": "text/x-python",
   "name": "python",
   "nbconvert_exporter": "python",
   "pygments_lexer": "ipython3",
   "version": "3.10.2"
  }
 },
 "nbformat": 4,
 "nbformat_minor": 2
}
